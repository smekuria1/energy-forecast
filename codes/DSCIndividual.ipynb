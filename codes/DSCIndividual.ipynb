{
  "cells": [
    {
      "cell_type": "markdown",
      "metadata": {
        "id": "PB-r0dhonKdD"
      },
      "source": [
        "# Read Data"
      ]
    },
    {
      "cell_type": "code",
      "execution_count": 1,
      "metadata": {
        "colab": {
          "base_uri": "https://localhost:8080/"
        },
        "id": "SE10xVTxn9Sy",
        "outputId": "e0343598-fbb8-471d-fa4e-62ff4308bd63"
      },
      "outputs": [],
      "source": [
        "%%capture\n",
        "%pip install pandas;\n",
        "%pip install matplotlib;\n",
        "%pip install numpy;\n",
        "%pip install scikit-learn;\n",
        "%pip install statsmodel     s;"
      ]
    },
    {
      "cell_type": "code",
      "execution_count": 2,
      "metadata": {
        "id": "XABau1CCn3HT"
      },
      "outputs": [],
      "source": [
        "import pandas as pd\n",
        "import matplotlib.pyplot as plt\n",
        "import warnings\n",
        "import matplotlib.pyplot as plt\n",
        "from statsmodels.tsa.seasonal import STL\n",
        "from sklearn.linear_model import LinearRegression\n",
        "warnings.filterwarnings(\"ignore\", category=UserWarning)\n"
      ]
    },
    {
      "cell_type": "code",
      "execution_count": 3,
      "metadata": {
        "colab": {
          "base_uri": "https://localhost:8080/",
          "height": 391
        },
        "id": "LlL4sFFB2VC5",
        "outputId": "16e1a7b7-b9bf-434b-f8cc-a634251aece0"
      },
      "outputs": [
        {
          "data": {
            "text/html": [
              "<div>\n",
              "<style scoped>\n",
              "    .dataframe tbody tr th:only-of-type {\n",
              "        vertical-align: middle;\n",
              "    }\n",
              "\n",
              "    .dataframe tbody tr th {\n",
              "        vertical-align: top;\n",
              "    }\n",
              "\n",
              "    .dataframe thead th {\n",
              "        text-align: right;\n",
              "    }\n",
              "</style>\n",
              "<table border=\"1\" class=\"dataframe\">\n",
              "  <thead>\n",
              "    <tr style=\"text-align: right;\">\n",
              "      <th></th>\n",
              "      <th>Datetime</th>\n",
              "      <th>DAYTON_MW</th>\n",
              "    </tr>\n",
              "  </thead>\n",
              "  <tbody>\n",
              "    <tr>\n",
              "      <th>0</th>\n",
              "      <td>2004-12-31 01:00:00</td>\n",
              "      <td>1596.0</td>\n",
              "    </tr>\n",
              "    <tr>\n",
              "      <th>1</th>\n",
              "      <td>2004-12-31 02:00:00</td>\n",
              "      <td>1517.0</td>\n",
              "    </tr>\n",
              "    <tr>\n",
              "      <th>2</th>\n",
              "      <td>2004-12-31 03:00:00</td>\n",
              "      <td>1486.0</td>\n",
              "    </tr>\n",
              "    <tr>\n",
              "      <th>3</th>\n",
              "      <td>2004-12-31 04:00:00</td>\n",
              "      <td>1469.0</td>\n",
              "    </tr>\n",
              "    <tr>\n",
              "      <th>4</th>\n",
              "      <td>2004-12-31 05:00:00</td>\n",
              "      <td>1472.0</td>\n",
              "    </tr>\n",
              "    <tr>\n",
              "      <th>...</th>\n",
              "      <td>...</td>\n",
              "      <td>...</td>\n",
              "    </tr>\n",
              "    <tr>\n",
              "      <th>121270</th>\n",
              "      <td>2018-01-01 20:00:00</td>\n",
              "      <td>2732.0</td>\n",
              "    </tr>\n",
              "    <tr>\n",
              "      <th>121271</th>\n",
              "      <td>2018-01-01 21:00:00</td>\n",
              "      <td>2724.0</td>\n",
              "    </tr>\n",
              "    <tr>\n",
              "      <th>121272</th>\n",
              "      <td>2018-01-01 22:00:00</td>\n",
              "      <td>2664.0</td>\n",
              "    </tr>\n",
              "    <tr>\n",
              "      <th>121273</th>\n",
              "      <td>2018-01-01 23:00:00</td>\n",
              "      <td>2614.0</td>\n",
              "    </tr>\n",
              "    <tr>\n",
              "      <th>121274</th>\n",
              "      <td>2018-01-02 00:00:00</td>\n",
              "      <td>2552.0</td>\n",
              "    </tr>\n",
              "  </tbody>\n",
              "</table>\n",
              "<p>121275 rows × 2 columns</p>\n",
              "</div>"
            ],
            "text/plain": [
              "                   Datetime  DAYTON_MW\n",
              "0       2004-12-31 01:00:00     1596.0\n",
              "1       2004-12-31 02:00:00     1517.0\n",
              "2       2004-12-31 03:00:00     1486.0\n",
              "3       2004-12-31 04:00:00     1469.0\n",
              "4       2004-12-31 05:00:00     1472.0\n",
              "...                     ...        ...\n",
              "121270  2018-01-01 20:00:00     2732.0\n",
              "121271  2018-01-01 21:00:00     2724.0\n",
              "121272  2018-01-01 22:00:00     2664.0\n",
              "121273  2018-01-01 23:00:00     2614.0\n",
              "121274  2018-01-02 00:00:00     2552.0\n",
              "\n",
              "[121275 rows x 2 columns]"
            ]
          },
          "execution_count": 3,
          "metadata": {},
          "output_type": "execute_result"
        }
      ],
      "source": [
        "\n",
        "df = pd.read_csv(\"../data/DAYTON_Hourly.csv\")\n",
        "\n",
        "data_numeric = df.iloc[:, 1:]\n",
        "\n",
        "df"
      ]
    },
    {
      "cell_type": "code",
      "execution_count": 4,
      "metadata": {},
      "outputs": [
        {
          "name": "stdout",
          "output_type": "stream",
          "text": [
            "count    121271.000000\n",
            "mean       2037.872006\n",
            "std         393.392105\n",
            "min         982.000000\n",
            "25%        1749.000000\n",
            "50%        2009.000000\n",
            "75%        2279.000000\n",
            "max        3746.000000\n",
            "Name: DAYTON_MW, dtype: float64\n"
          ]
        }
      ],
      "source": [
        "df['Datetime'] = pd.to_datetime(df['Datetime'])\n",
        "\n",
        "# Set the 'Datetime' column as the index\n",
        "df.set_index('Datetime', inplace=True)\n",
        "\n",
        "\n",
        "# Check for and handle duplicate index labels\n",
        "df = df[~df.index.duplicated(keep='first')]\n",
        "\n",
        "# Calculate summary statistics\n",
        "summary_stats = df['DAYTON_MW'].describe()\n",
        "\n",
        "# Print the summary statistics\n",
        "print(summary_stats)"
      ]
    },
    {
      "cell_type": "code",
      "execution_count": 5,
      "metadata": {},
      "outputs": [
        {
          "name": "stdout",
          "output_type": "stream",
          "text": [
            "Mean energy consumption: 2037.8720056732443\n",
            "Median energy consumption: 2009.0\n",
            "Minimum energy consumption: 982.0\n",
            "Maximum energy consumption: 3746.0\n"
          ]
        }
      ],
      "source": [
        "mean_energy_consumption = summary_stats['mean']\n",
        "median_energy_consumption = summary_stats['50%']  # Median\n",
        "min_energy_consumption = summary_stats['min']\n",
        "max_energy_consumption = summary_stats['max']\n",
        "\n",
        "print(\"Mean energy consumption:\", mean_energy_consumption)\n",
        "print(\"Median energy consumption:\", median_energy_consumption)\n",
        "print(\"Minimum energy consumption:\", min_energy_consumption)\n",
        "print(\"Maximum energy consumption:\", max_energy_consumption)\n"
      ]
    },
    {
      "cell_type": "code",
      "execution_count": 24,
      "metadata": {},
      "outputs": [
        {
          "data": {
            "image/png": "[encoded data removed]",
            "text/plain": [
              "<Figure size 1000x600 with 1 Axes>"
            ]
          },
          "metadata": {},
          "output_type": "display_data"
        },
        {
          "name": "stdout",
          "output_type": "stream",
          "text": [
            "Datetime\n",
            "2004-12-31    2046.5\n",
            "2005-12-31    2121.0\n",
            "2006-12-31    2094.0\n",
            "2007-12-31    2155.0\n",
            "2008-12-31    2096.0\n",
            "2009-12-31    1959.0\n",
            "2010-12-31    1985.0\n",
            "2011-12-31    1953.0\n",
            "2012-12-31    1951.0\n",
            "2013-12-31    1974.0\n",
            "2014-12-31    1983.0\n",
            "2015-12-31    1964.0\n",
            "2016-12-31    1980.0\n",
            "2017-12-31    1956.0\n",
            "2018-12-31    2035.5\n",
            "Freq: YE-DEC, Name: DAYTON_MW, dtype: float64\n"
          ]
        }
      ],
      "source": [
        "yearly_mean = df['DAYTON_MW'].resample('YE').mean()\n",
        "yearly_median = df['DAYTON_MW'].resample('YE').median()\n",
        "\n",
        "# Plotting\n",
        "plt.figure(figsize=(10, 6))\n",
        "plt.plot(yearly_mean.index.year, yearly_mean, label='Mean')\n",
        "plt.plot(yearly_median.index.year, yearly_median, label='Median')\n",
        "plt.xlabel('Year')\n",
        "plt.ylabel('Energy Consumption')\n",
        "plt.title('Mean and Median Energy Consumption per Year')\n",
        "plt.legend()\n",
        "plt.grid(True)\n",
        "plt.xticks(rotation=45)\n",
        "plt.tight_layout()\n",
        "plt.show()\n",
        "\n",
        "print(yearly_median)"
      ]
    },
    {
      "cell_type": "code",
      "execution_count": 7,
      "metadata": {},
      "outputs": [
        {
          "name": "stdout",
          "output_type": "stream",
          "text": [
            "<class 'pandas.core.frame.DataFrame'>\n",
            "DatetimeIndex: 121271 entries, 2004-12-31 01:00:00 to 2018-01-02 00:00:00\n",
            "Data columns (total 1 columns):\n",
            " #   Column     Non-Null Count   Dtype  \n",
            "---  ------     --------------   -----  \n",
            " 0   DAYTON_MW  121271 non-null  float64\n",
            "dtypes: float64(1)\n",
            "memory usage: 1.9 MB\n"
          ]
        }
      ],
      "source": [
        "df.info()"
      ]
    },
    {
      "cell_type": "code",
      "execution_count": 8,
      "metadata": {},
      "outputs": [],
      "source": [
        "# Then, resample the data to yearly frequency and calculate the mean\n",
        "df_yearly_mean = df.resample('YE').mean()\n",
        "# # Specify the frequency of the time series data\n",
        "# df = df.asfreq('YE')\n",
        "\n"
      ]
    },
    {
      "cell_type": "code",
      "execution_count": 9,
      "metadata": {},
      "outputs": [
        {
          "data": {
            "text/html": [
              "<div>\n",
              "<style scoped>\n",
              "    .dataframe tbody tr th:only-of-type {\n",
              "        vertical-align: middle;\n",
              "    }\n",
              "\n",
              "    .dataframe tbody tr th {\n",
              "        vertical-align: top;\n",
              "    }\n",
              "\n",
              "    .dataframe thead th {\n",
              "        text-align: right;\n",
              "    }\n",
              "</style>\n",
              "<table border=\"1\" class=\"dataframe\">\n",
              "  <thead>\n",
              "    <tr style=\"text-align: right;\">\n",
              "      <th></th>\n",
              "      <th>DAYTON_MW</th>\n",
              "    </tr>\n",
              "    <tr>\n",
              "      <th>Datetime</th>\n",
              "      <th></th>\n",
              "    </tr>\n",
              "  </thead>\n",
              "  <tbody>\n",
              "    <tr>\n",
              "      <th>2004-12-31</th>\n",
              "      <td>1987.417951</td>\n",
              "    </tr>\n",
              "    <tr>\n",
              "      <th>2005-12-31</th>\n",
              "      <td>2141.773008</td>\n",
              "    </tr>\n",
              "    <tr>\n",
              "      <th>2006-12-31</th>\n",
              "      <td>2096.553323</td>\n",
              "    </tr>\n",
              "    <tr>\n",
              "      <th>2007-12-31</th>\n",
              "      <td>2177.711921</td>\n",
              "    </tr>\n",
              "    <tr>\n",
              "      <th>2008-12-31</th>\n",
              "      <td>2114.041790</td>\n",
              "    </tr>\n",
              "    <tr>\n",
              "      <th>2009-12-31</th>\n",
              "      <td>1965.575816</td>\n",
              "    </tr>\n",
              "    <tr>\n",
              "      <th>2010-12-31</th>\n",
              "      <td>2026.887290</td>\n",
              "    </tr>\n",
              "    <tr>\n",
              "      <th>2011-12-31</th>\n",
              "      <td>1988.952843</td>\n",
              "    </tr>\n",
              "    <tr>\n",
              "      <th>2012-12-31</th>\n",
              "      <td>1982.261330</td>\n",
              "    </tr>\n",
              "    <tr>\n",
              "      <th>2013-12-31</th>\n",
              "      <td>1989.189084</td>\n",
              "    </tr>\n",
              "    <tr>\n",
              "      <th>2014-12-31</th>\n",
              "      <td>2012.500970</td>\n",
              "    </tr>\n",
              "    <tr>\n",
              "      <th>2015-12-31</th>\n",
              "      <td>1990.139856</td>\n",
              "    </tr>\n",
              "    <tr>\n",
              "      <th>2016-12-31</th>\n",
              "      <td>2029.362974</td>\n",
              "    </tr>\n",
              "    <tr>\n",
              "      <th>2017-12-31</th>\n",
              "      <td>1974.485444</td>\n",
              "    </tr>\n",
              "    <tr>\n",
              "      <th>2018-12-31</th>\n",
              "      <td>2064.458528</td>\n",
              "    </tr>\n",
              "  </tbody>\n",
              "</table>\n",
              "</div>"
            ],
            "text/plain": [
              "              DAYTON_MW\n",
              "Datetime               \n",
              "2004-12-31  1987.417951\n",
              "2005-12-31  2141.773008\n",
              "2006-12-31  2096.553323\n",
              "2007-12-31  2177.711921\n",
              "2008-12-31  2114.041790\n",
              "2009-12-31  1965.575816\n",
              "2010-12-31  2026.887290\n",
              "2011-12-31  1988.952843\n",
              "2012-12-31  1982.261330\n",
              "2013-12-31  1989.189084\n",
              "2014-12-31  2012.500970\n",
              "2015-12-31  1990.139856\n",
              "2016-12-31  2029.362974\n",
              "2017-12-31  1974.485444\n",
              "2018-12-31  2064.458528"
            ]
          },
          "execution_count": 9,
          "metadata": {},
          "output_type": "execute_result"
        }
      ],
      "source": [
        "df_yearly_mean"
      ]
    },
    {
      "cell_type": "code",
      "execution_count": 10,
      "metadata": {},
      "outputs": [],
      "source": [
        "stl = STL(df_yearly_mean['DAYTON_MW'], period=365)\n",
        "result = stl.fit()"
      ]
    },
    {
      "cell_type": "code",
      "execution_count": 11,
      "metadata": {},
      "outputs": [
        {
          "name": "stdout",
          "output_type": "stream",
          "text": [
            "Seasonal Indices:\n",
            "Datetime\n",
            "12    1649.092204\n",
            "Name: season, dtype: float64\n"
          ]
        },
        {
          "data": {
            "image/png": "[encoded data removed]",
            "text/plain": [
              "<Figure size 1000x600 with 1 Axes>"
            ]
          },
          "metadata": {},
          "output_type": "display_data"
        }
      ],
      "source": [
        "# Calculate seasonal indices\n",
        "seasonal_indices = result.seasonal.groupby(result.seasonal.index.month).mean()\n",
        "# Print seasonal indices\n",
        "print(\"Seasonal Indices:\")\n",
        "print(seasonal_indices)\n",
        "\n",
        "# Perform seasonal adjustment\n",
        "seasonal_adjusted = df_yearly_mean['DAYTON_MW'] - result.seasonal\n",
        "# Plot the original data and the seasonal-adjusted data\n",
        "plt.figure(figsize=(10, 6))\n",
        "plt.plot(df_yearly_mean.index, df_yearly_mean['DAYTON_MW'], label='Original')\n",
        "plt.plot(seasonal_adjusted.index, seasonal_adjusted, label='Seasonal Adjusted')\n",
        "plt.xlabel('Date')\n",
        "plt.ylabel('Energy Consumption')\n",
        "plt.title('Original Yearly Mean Data vs Seasonal-Adjusted Data')\n",
        "plt.legend()\n",
        "plt.grid(True)\n",
        "plt.xticks(rotation=45)\n",
        "plt.tight_layout()\n",
        "plt.show()"
      ]
    },
    {
      "cell_type": "markdown",
      "metadata": {},
      "source": [
        "Strong Seasonal Pattern: If the seasonal-adjusted data appears as a straight line with very little variation, it implies that the seasonal component has been effectively removed from the original data. This could mean that the energy consumption exhibits a very predictable pattern over time, likely influenced by factors such as seasonal changes in weather, economic activity, or human behavior."
      ]
    },
    {
      "cell_type": "code",
      "execution_count": 12,
      "metadata": {},
      "outputs": [
        {
          "name": "stderr",
          "output_type": "stream",
          "text": [
            "C:\\Users\\solme\\AppData\\Local\\Temp\\ipykernel_14640\\1039166524.py:3: DtypeWarning: Columns (2) have mixed types. Specify dtype option on import or set low_memory=False.\n",
            "  weatherdf = pd.read_csv(\"../data/city_temperature.csv\")\n"
          ]
        },
        {
          "name": "stdout",
          "output_type": "stream",
          "text": [
            "<class 'pandas.core.frame.DataFrame'>\n",
            "RangeIndex: 2906327 entries, 0 to 2906326\n",
            "Data columns (total 8 columns):\n",
            " #   Column          Dtype  \n",
            "---  ------          -----  \n",
            " 0   Region          object \n",
            " 1   Country         object \n",
            " 2   State           object \n",
            " 3   City            object \n",
            " 4   Month           int64  \n",
            " 5   Day             int64  \n",
            " 6   Year            int64  \n",
            " 7   AvgTemperature  float64\n",
            "dtypes: float64(1), int64(3), object(4)\n",
            "memory usage: 177.4+ MB\n"
          ]
        }
      ],
      "source": [
        "# Load Weather data\n",
        "\n",
        "weatherdf = pd.read_csv(\"../data/city_temperature.csv\")\n",
        "\n",
        "weatherdf.info()"
      ]
    },
    {
      "cell_type": "code",
      "execution_count": 13,
      "metadata": {},
      "outputs": [
        {
          "name": "stdout",
          "output_type": "stream",
          "text": [
            "                Region Country State    City  Month  Day  Year  AvgTemperature\n",
            "2415295  North America      US  Ohio  Dayton      1    1  2004            37.1\n",
            "2415296  North America      US  Ohio  Dayton      1    2  2004            48.1\n",
            "2415297  North America      US  Ohio  Dayton      1    3  2004            56.0\n",
            "2415298  North America      US  Ohio  Dayton      1    4  2004            39.3\n",
            "2415299  North America      US  Ohio  Dayton      1    5  2004            32.2\n",
            "...                ...     ...   ...     ...    ...  ...   ...             ...\n",
            "2420769  North America      US  Ohio  Dayton     12   27  2018            39.4\n",
            "2420770  North America      US  Ohio  Dayton     12   28  2018            52.7\n",
            "2420771  North America      US  Ohio  Dayton     12   29  2018            34.2\n",
            "2420772  North America      US  Ohio  Dayton     12   30  2018            33.3\n",
            "2420773  North America      US  Ohio  Dayton     12   31  2018            43.2\n",
            "\n",
            "[5479 rows x 8 columns]\n"
          ]
        }
      ],
      "source": [
        "# Filter the data for Dayton, Ohio, United States and for the years 2004-2018\n",
        "filtered_data = weatherdf[(weatherdf['City'] == 'Dayton') & \n",
        "                          (weatherdf['State'] == 'Ohio') & \n",
        "                          (weatherdf['Country'] == 'US') & \n",
        "                          (weatherdf['Year'] >= 2004) & \n",
        "                          (weatherdf['Year'] <= 2018)]\n",
        "\n",
        "# Display the filtered data\n",
        "print(filtered_data)"
      ]
    },
    {
      "cell_type": "code",
      "execution_count": 14,
      "metadata": {},
      "outputs": [],
      "source": [
        "filtered_df = filtered_data[['City','Year', 'AvgTemperature']]"
      ]
    },
    {
      "cell_type": "code",
      "execution_count": 15,
      "metadata": {},
      "outputs": [
        {
          "data": {
            "text/html": [
              "<div>\n",
              "<style scoped>\n",
              "    .dataframe tbody tr th:only-of-type {\n",
              "        vertical-align: middle;\n",
              "    }\n",
              "\n",
              "    .dataframe tbody tr th {\n",
              "        vertical-align: top;\n",
              "    }\n",
              "\n",
              "    .dataframe thead th {\n",
              "        text-align: right;\n",
              "    }\n",
              "</style>\n",
              "<table border=\"1\" class=\"dataframe\">\n",
              "  <thead>\n",
              "    <tr style=\"text-align: right;\">\n",
              "      <th></th>\n",
              "      <th>City</th>\n",
              "      <th>Year</th>\n",
              "      <th>AvgTemperature</th>\n",
              "    </tr>\n",
              "  </thead>\n",
              "  <tbody>\n",
              "    <tr>\n",
              "      <th>2415295</th>\n",
              "      <td>Dayton</td>\n",
              "      <td>2004</td>\n",
              "      <td>37.1</td>\n",
              "    </tr>\n",
              "    <tr>\n",
              "      <th>2415296</th>\n",
              "      <td>Dayton</td>\n",
              "      <td>2004</td>\n",
              "      <td>48.1</td>\n",
              "    </tr>\n",
              "    <tr>\n",
              "      <th>2415297</th>\n",
              "      <td>Dayton</td>\n",
              "      <td>2004</td>\n",
              "      <td>56.0</td>\n",
              "    </tr>\n",
              "    <tr>\n",
              "      <th>2415298</th>\n",
              "      <td>Dayton</td>\n",
              "      <td>2004</td>\n",
              "      <td>39.3</td>\n",
              "    </tr>\n",
              "    <tr>\n",
              "      <th>2415299</th>\n",
              "      <td>Dayton</td>\n",
              "      <td>2004</td>\n",
              "      <td>32.2</td>\n",
              "    </tr>\n",
              "  </tbody>\n",
              "</table>\n",
              "</div>"
            ],
            "text/plain": [
              "           City  Year  AvgTemperature\n",
              "2415295  Dayton  2004            37.1\n",
              "2415296  Dayton  2004            48.1\n",
              "2415297  Dayton  2004            56.0\n",
              "2415298  Dayton  2004            39.3\n",
              "2415299  Dayton  2004            32.2"
            ]
          },
          "execution_count": 15,
          "metadata": {},
          "output_type": "execute_result"
        }
      ],
      "source": [
        "filtered_df.head()"
      ]
    },
    {
      "cell_type": "code",
      "execution_count": 16,
      "metadata": {},
      "outputs": [
        {
          "data": {
            "text/html": [
              "<div>\n",
              "<style scoped>\n",
              "    .dataframe tbody tr th:only-of-type {\n",
              "        vertical-align: middle;\n",
              "    }\n",
              "\n",
              "    .dataframe tbody tr th {\n",
              "        vertical-align: top;\n",
              "    }\n",
              "\n",
              "    .dataframe thead th {\n",
              "        text-align: right;\n",
              "    }\n",
              "</style>\n",
              "<table border=\"1\" class=\"dataframe\">\n",
              "  <thead>\n",
              "    <tr style=\"text-align: right;\">\n",
              "      <th></th>\n",
              "      <th>Year</th>\n",
              "      <th>AvgTemperature</th>\n",
              "    </tr>\n",
              "  </thead>\n",
              "  <tbody>\n",
              "    <tr>\n",
              "      <th>0</th>\n",
              "      <td>2004</td>\n",
              "      <td>51.892350</td>\n",
              "    </tr>\n",
              "    <tr>\n",
              "      <th>1</th>\n",
              "      <td>2005</td>\n",
              "      <td>52.229863</td>\n",
              "    </tr>\n",
              "    <tr>\n",
              "      <th>2</th>\n",
              "      <td>2006</td>\n",
              "      <td>53.140822</td>\n",
              "    </tr>\n",
              "    <tr>\n",
              "      <th>3</th>\n",
              "      <td>2007</td>\n",
              "      <td>52.804110</td>\n",
              "    </tr>\n",
              "    <tr>\n",
              "      <th>4</th>\n",
              "      <td>2008</td>\n",
              "      <td>50.290164</td>\n",
              "    </tr>\n",
              "    <tr>\n",
              "      <th>5</th>\n",
              "      <td>2009</td>\n",
              "      <td>51.088219</td>\n",
              "    </tr>\n",
              "    <tr>\n",
              "      <th>6</th>\n",
              "      <td>2010</td>\n",
              "      <td>52.698356</td>\n",
              "    </tr>\n",
              "    <tr>\n",
              "      <th>7</th>\n",
              "      <td>2011</td>\n",
              "      <td>53.253151</td>\n",
              "    </tr>\n",
              "    <tr>\n",
              "      <th>8</th>\n",
              "      <td>2012</td>\n",
              "      <td>55.422951</td>\n",
              "    </tr>\n",
              "    <tr>\n",
              "      <th>9</th>\n",
              "      <td>2013</td>\n",
              "      <td>52.373699</td>\n",
              "    </tr>\n",
              "    <tr>\n",
              "      <th>10</th>\n",
              "      <td>2014</td>\n",
              "      <td>51.220000</td>\n",
              "    </tr>\n",
              "    <tr>\n",
              "      <th>11</th>\n",
              "      <td>2015</td>\n",
              "      <td>53.553973</td>\n",
              "    </tr>\n",
              "    <tr>\n",
              "      <th>12</th>\n",
              "      <td>2016</td>\n",
              "      <td>54.321038</td>\n",
              "    </tr>\n",
              "    <tr>\n",
              "      <th>13</th>\n",
              "      <td>2017</td>\n",
              "      <td>53.999726</td>\n",
              "    </tr>\n",
              "    <tr>\n",
              "      <th>14</th>\n",
              "      <td>2018</td>\n",
              "      <td>53.038904</td>\n",
              "    </tr>\n",
              "  </tbody>\n",
              "</table>\n",
              "</div>"
            ],
            "text/plain": [
              "    Year  AvgTemperature\n",
              "0   2004       51.892350\n",
              "1   2005       52.229863\n",
              "2   2006       53.140822\n",
              "3   2007       52.804110\n",
              "4   2008       50.290164\n",
              "5   2009       51.088219\n",
              "6   2010       52.698356\n",
              "7   2011       53.253151\n",
              "8   2012       55.422951\n",
              "9   2013       52.373699\n",
              "10  2014       51.220000\n",
              "11  2015       53.553973\n",
              "12  2016       54.321038\n",
              "13  2017       53.999726\n",
              "14  2018       53.038904"
            ]
          },
          "execution_count": 16,
          "metadata": {},
          "output_type": "execute_result"
        }
      ],
      "source": [
        "# Group by year and calculate the mean temperature for each year\n",
        "yearly_avg_temp = filtered_df.groupby('Year')['AvgTemperature'].mean()\n",
        "\n",
        "# Convert the series to a DataFrame\n",
        "yearly_avg_temp_df = yearly_avg_temp.reset_index()\n",
        "\n",
        "yearly_avg_temp_df"
      ]
    },
    {
      "cell_type": "code",
      "execution_count": 27,
      "metadata": {},
      "outputs": [
        {
          "data": {
            "text/html": [
              "<div>\n",
              "<style scoped>\n",
              "    .dataframe tbody tr th:only-of-type {\n",
              "        vertical-align: middle;\n",
              "    }\n",
              "\n",
              "    .dataframe tbody tr th {\n",
              "        vertical-align: top;\n",
              "    }\n",
              "\n",
              "    .dataframe thead th {\n",
              "        text-align: right;\n",
              "    }\n",
              "</style>\n",
              "<table border=\"1\" class=\"dataframe\">\n",
              "  <thead>\n",
              "    <tr style=\"text-align: right;\">\n",
              "      <th></th>\n",
              "      <th>DAYTON_MW</th>\n",
              "      <th>Year</th>\n",
              "    </tr>\n",
              "    <tr>\n",
              "      <th>Datetime</th>\n",
              "      <th></th>\n",
              "      <th></th>\n",
              "    </tr>\n",
              "  </thead>\n",
              "  <tbody>\n",
              "    <tr>\n",
              "      <th>2004-12-31</th>\n",
              "      <td>1987.417951</td>\n",
              "      <td>2004</td>\n",
              "    </tr>\n",
              "    <tr>\n",
              "      <th>2005-12-31</th>\n",
              "      <td>2141.773008</td>\n",
              "      <td>2005</td>\n",
              "    </tr>\n",
              "    <tr>\n",
              "      <th>2006-12-31</th>\n",
              "      <td>2096.553323</td>\n",
              "      <td>2006</td>\n",
              "    </tr>\n",
              "    <tr>\n",
              "      <th>2007-12-31</th>\n",
              "      <td>2177.711921</td>\n",
              "      <td>2007</td>\n",
              "    </tr>\n",
              "    <tr>\n",
              "      <th>2008-12-31</th>\n",
              "      <td>2114.041790</td>\n",
              "      <td>2008</td>\n",
              "    </tr>\n",
              "    <tr>\n",
              "      <th>2009-12-31</th>\n",
              "      <td>1965.575816</td>\n",
              "      <td>2009</td>\n",
              "    </tr>\n",
              "    <tr>\n",
              "      <th>2010-12-31</th>\n",
              "      <td>2026.887290</td>\n",
              "      <td>2010</td>\n",
              "    </tr>\n",
              "    <tr>\n",
              "      <th>2011-12-31</th>\n",
              "      <td>1988.952843</td>\n",
              "      <td>2011</td>\n",
              "    </tr>\n",
              "    <tr>\n",
              "      <th>2012-12-31</th>\n",
              "      <td>1982.261330</td>\n",
              "      <td>2012</td>\n",
              "    </tr>\n",
              "    <tr>\n",
              "      <th>2013-12-31</th>\n",
              "      <td>1989.189084</td>\n",
              "      <td>2013</td>\n",
              "    </tr>\n",
              "    <tr>\n",
              "      <th>2014-12-31</th>\n",
              "      <td>2012.500970</td>\n",
              "      <td>2014</td>\n",
              "    </tr>\n",
              "    <tr>\n",
              "      <th>2015-12-31</th>\n",
              "      <td>1990.139856</td>\n",
              "      <td>2015</td>\n",
              "    </tr>\n",
              "    <tr>\n",
              "      <th>2016-12-31</th>\n",
              "      <td>2029.362974</td>\n",
              "      <td>2016</td>\n",
              "    </tr>\n",
              "    <tr>\n",
              "      <th>2017-12-31</th>\n",
              "      <td>1974.485444</td>\n",
              "      <td>2017</td>\n",
              "    </tr>\n",
              "    <tr>\n",
              "      <th>2018-12-31</th>\n",
              "      <td>2064.458528</td>\n",
              "      <td>2018</td>\n",
              "    </tr>\n",
              "  </tbody>\n",
              "</table>\n",
              "</div>"
            ],
            "text/plain": [
              "              DAYTON_MW  Year\n",
              "Datetime                     \n",
              "2004-12-31  1987.417951  2004\n",
              "2005-12-31  2141.773008  2005\n",
              "2006-12-31  2096.553323  2006\n",
              "2007-12-31  2177.711921  2007\n",
              "2008-12-31  2114.041790  2008\n",
              "2009-12-31  1965.575816  2009\n",
              "2010-12-31  2026.887290  2010\n",
              "2011-12-31  1988.952843  2011\n",
              "2012-12-31  1982.261330  2012\n",
              "2013-12-31  1989.189084  2013\n",
              "2014-12-31  2012.500970  2014\n",
              "2015-12-31  1990.139856  2015\n",
              "2016-12-31  2029.362974  2016\n",
              "2017-12-31  1974.485444  2017\n",
              "2018-12-31  2064.458528  2018"
            ]
          },
          "execution_count": 27,
          "metadata": {},
          "output_type": "execute_result"
        }
      ],
      "source": [
        "df_yearly_mean"
      ]
    },
    {
      "cell_type": "code",
      "execution_count": 18,
      "metadata": {},
      "outputs": [],
      "source": [
        "df_yearly_mean['Year'] = df_yearly_mean.index.year\n"
      ]
    },
    {
      "cell_type": "code",
      "execution_count": 19,
      "metadata": {},
      "outputs": [
        {
          "data": {
            "text/html": [
              "<div>\n",
              "<style scoped>\n",
              "    .dataframe tbody tr th:only-of-type {\n",
              "        vertical-align: middle;\n",
              "    }\n",
              "\n",
              "    .dataframe tbody tr th {\n",
              "        vertical-align: top;\n",
              "    }\n",
              "\n",
              "    .dataframe thead th {\n",
              "        text-align: right;\n",
              "    }\n",
              "</style>\n",
              "<table border=\"1\" class=\"dataframe\">\n",
              "  <thead>\n",
              "    <tr style=\"text-align: right;\">\n",
              "      <th></th>\n",
              "      <th>DAYTON_MW</th>\n",
              "      <th>Year</th>\n",
              "    </tr>\n",
              "    <tr>\n",
              "      <th>Datetime</th>\n",
              "      <th></th>\n",
              "      <th></th>\n",
              "    </tr>\n",
              "  </thead>\n",
              "  <tbody>\n",
              "    <tr>\n",
              "      <th>2004-12-31</th>\n",
              "      <td>1987.417951</td>\n",
              "      <td>2004</td>\n",
              "    </tr>\n",
              "    <tr>\n",
              "      <th>2005-12-31</th>\n",
              "      <td>2141.773008</td>\n",
              "      <td>2005</td>\n",
              "    </tr>\n",
              "    <tr>\n",
              "      <th>2006-12-31</th>\n",
              "      <td>2096.553323</td>\n",
              "      <td>2006</td>\n",
              "    </tr>\n",
              "    <tr>\n",
              "      <th>2007-12-31</th>\n",
              "      <td>2177.711921</td>\n",
              "      <td>2007</td>\n",
              "    </tr>\n",
              "    <tr>\n",
              "      <th>2008-12-31</th>\n",
              "      <td>2114.041790</td>\n",
              "      <td>2008</td>\n",
              "    </tr>\n",
              "  </tbody>\n",
              "</table>\n",
              "</div>"
            ],
            "text/plain": [
              "              DAYTON_MW  Year\n",
              "Datetime                     \n",
              "2004-12-31  1987.417951  2004\n",
              "2005-12-31  2141.773008  2005\n",
              "2006-12-31  2096.553323  2006\n",
              "2007-12-31  2177.711921  2007\n",
              "2008-12-31  2114.041790  2008"
            ]
          },
          "execution_count": 19,
          "metadata": {},
          "output_type": "execute_result"
        }
      ],
      "source": [
        "df_yearly_mean.head()"
      ]
    },
    {
      "cell_type": "code",
      "execution_count": 20,
      "metadata": {},
      "outputs": [
        {
          "data": {
            "text/html": [
              "<div>\n",
              "<style scoped>\n",
              "    .dataframe tbody tr th:only-of-type {\n",
              "        vertical-align: middle;\n",
              "    }\n",
              "\n",
              "    .dataframe tbody tr th {\n",
              "        vertical-align: top;\n",
              "    }\n",
              "\n",
              "    .dataframe thead th {\n",
              "        text-align: right;\n",
              "    }\n",
              "</style>\n",
              "<table border=\"1\" class=\"dataframe\">\n",
              "  <thead>\n",
              "    <tr style=\"text-align: right;\">\n",
              "      <th></th>\n",
              "      <th>DAYTON_MW</th>\n",
              "      <th>Year</th>\n",
              "      <th>AvgTemperature</th>\n",
              "    </tr>\n",
              "  </thead>\n",
              "  <tbody>\n",
              "    <tr>\n",
              "      <th>0</th>\n",
              "      <td>1987.417951</td>\n",
              "      <td>2004</td>\n",
              "      <td>51.892350</td>\n",
              "    </tr>\n",
              "    <tr>\n",
              "      <th>1</th>\n",
              "      <td>2141.773008</td>\n",
              "      <td>2005</td>\n",
              "      <td>52.229863</td>\n",
              "    </tr>\n",
              "    <tr>\n",
              "      <th>2</th>\n",
              "      <td>2096.553323</td>\n",
              "      <td>2006</td>\n",
              "      <td>53.140822</td>\n",
              "    </tr>\n",
              "    <tr>\n",
              "      <th>3</th>\n",
              "      <td>2177.711921</td>\n",
              "      <td>2007</td>\n",
              "      <td>52.804110</td>\n",
              "    </tr>\n",
              "    <tr>\n",
              "      <th>4</th>\n",
              "      <td>2114.041790</td>\n",
              "      <td>2008</td>\n",
              "      <td>50.290164</td>\n",
              "    </tr>\n",
              "  </tbody>\n",
              "</table>\n",
              "</div>"
            ],
            "text/plain": [
              "     DAYTON_MW  Year  AvgTemperature\n",
              "0  1987.417951  2004       51.892350\n",
              "1  2141.773008  2005       52.229863\n",
              "2  2096.553323  2006       53.140822\n",
              "3  2177.711921  2007       52.804110\n",
              "4  2114.041790  2008       50.290164"
            ]
          },
          "execution_count": 20,
          "metadata": {},
          "output_type": "execute_result"
        }
      ],
      "source": [
        "combined_df = pd.merge(df_yearly_mean, yearly_avg_temp_df, on='Year')\n",
        "\n",
        "combined_df.head()"
      ]
    },
    {
      "cell_type": "code",
      "execution_count": 21,
      "metadata": {},
      "outputs": [],
      "source": [
        "combined_df['Year'] = combined_df['Year'].astype('category')"
      ]
    },
    {
      "cell_type": "code",
      "execution_count": 25,
      "metadata": {},
      "outputs": [
        {
          "data": {
            "image/png": "[encoded data removed]",
            "text/plain": [
              "<Figure size 1000x600 with 1 Axes>"
            ]
          },
          "metadata": {},
          "output_type": "display_data"
        },
        {
          "name": "stdout",
          "output_type": "stream",
          "text": [
            "Intercept: 2649.413971229923\n",
            "Coefficient: [-11.62590644]\n"
          ]
        }
      ],
      "source": [
        "# Convert the 'Year' column to categorical type if it's not already\n",
        "combined_df['Year'] = combined_df['Year'].astype('category')\n",
        "\n",
        "# Separate the independent variable (temperature) and dependent variable (energy consumption)\n",
        "X = combined_df[['AvgTemperature']]\n",
        "y = combined_df['DAYTON_MW']\n",
        "\n",
        "# Initialize and fit the linear regression model\n",
        "model = LinearRegression()\n",
        "model.fit(X, y)\n",
        "\n",
        "# Predict energy consumption using the fitted model\n",
        "y_pred = model.predict(X)\n",
        "\n",
        "# Plot the original data and the regression line\n",
        "plt.figure(figsize=(10, 6))\n",
        "plt.scatter(X, y, color='blue', label='Actual Data')\n",
        "plt.plot(X, y_pred, color='red', linewidth=2, label='Linear Regression')\n",
        "plt.xlabel('Average Temperature')\n",
        "plt.ylabel('Energy Consumption (DAYTON_MW)')\n",
        "plt.title('Linear Regression: Temperature vs Energy Consumption')\n",
        "plt.legend()\n",
        "plt.grid(True)\n",
        "plt.show()\n",
        "\n",
        "# Print the coefficients of the linear regression model\n",
        "print(\"Intercept:\", model.intercept_)\n",
        "print(\"Coefficient:\", model.coef_)"
      ]
    },
    {
      "cell_type": "code",
      "execution_count": 26,
      "metadata": {},
      "outputs": [
        {
          "name": "stdout",
          "output_type": "stream",
          "text": [
            "R-squared: 0.05279940214205714\n",
            "Mean Squared Error (MSE): 3979.2533932136407\n",
            "Mean Absolute Error (MAE): 53.22246186486632\n",
            "Root Mean Squared Error (RMSE): 63.08132364823713\n"
          ]
        }
      ],
      "source": [
        "from sklearn.metrics import r2_score, mean_squared_error, mean_absolute_error\n",
        "import numpy as np\n",
        "\n",
        "# Calculate R-squared\n",
        "r_squared = r2_score(y, y_pred)\n",
        "                                                                                                                                                                                                                    \n",
        "# Calculate Mean Squared Error (MSE)\n",
        "mse = mean_squared_error(y, y_pred)\n",
        "\n",
        "# Calculate Mean Absolute Error (MAE)\n",
        "mae = mean_absolute_error(y, y_pred)\n",
        "\n",
        "# Calculate Root Mean Squared Error (RMSE)\n",
        "rmse = np.sqrt(mse)\n",
        "\n",
        "# Print the evaluation metrics\n",
        "print(\"R-squared:\", r_squared)\n",
        "print(\"Mean Squared Error (MSE):\", mse)\n",
        "print(\"Mean Absolute Error (MAE):\", mae)\n",
        "print(\"Root Mean Squared Error (RMSE):\", rmse)"
      ]
    },
    {
      "cell_type": "code",
      "execution_count": null,
      "metadata": {},
      "outputs": [],
      "source": []
    }
  ],
  "metadata": {
    "colab": {
      "provenance": []
    },
    "kernelspec": {
      "display_name": "Python 3",
      "name": "python3"
    },
    "language_info": {
      "codemirror_mode": {
        "name": "ipython",
        "version": 3
      },
      "file_extension": ".py",
      "mimetype": "text/x-python",
      "name": "python",
      "nbconvert_exporter": "python",
      "pygments_lexer": "ipython3",
      "version": "3.11.7"
    }
  },
  "nbformat": 4,
  "nbformat_minor": 0
}
